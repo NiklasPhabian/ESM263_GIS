{
 "cells": [
  {
   "cell_type": "code",
   "execution_count": 89,
   "id": "5b0f6974-3e94-439c-bac9-e01de07d302e",
   "metadata": {},
   "outputs": [],
   "source": [
    "import geopandas\n",
    "from bs4 import BeautifulSoup\n",
    "import pandas\n",
    "import requests\n",
    "import time\n",
    "import random\n",
    "import numpy"
   ]
  },
  {
   "cell_type": "code",
   "execution_count": 90,
   "id": "f03d443c-505d-4303-9e27-bed26a5cc219",
   "metadata": {},
   "outputs": [],
   "source": [
    "path = geopandas.datasets.get_path(\"naturalearth_lowres\")\n",
    "world = geopandas.read_file(path)"
   ]
  },
  {
   "cell_type": "markdown",
   "id": "e31ecbf9-1b79-4bca-a9f4-71fbfa0003fd",
   "metadata": {},
   "source": [
    "# Replace country names to match CIA names"
   ]
  },
  {
   "cell_type": "code",
   "execution_count": 92,
   "id": "7c7492f8-7c22-4754-8a15-2222cc98c8b9",
   "metadata": {},
   "outputs": [],
   "source": [
    "country_map = {'United States of America': 'United States',\n",
    "               'Dem. Rep. Congo': 'Congo, Democratic Republic of the',\n",
    "               'Dominican Rep.': 'Dominican Republic',\n",
    "               'Bahamas': 'Bahamas, The',\n",
    "               \"Côte d'Ivoire\": \"Cote d'Ivoire\",\n",
    "               'Central African Rep.': 'Central African Republic',\n",
    "               'Congo': 'Congo, Republic of the',\n",
    "               'Eq. Guinea' : 'Equatorial Guinea',\n",
    "               'eSwatini': 'Eswatini',\n",
    "               'Gambia': 'Gambia, The',\n",
    "               'Myanmar': 'Burma',\n",
    "               'South Korea': 'Korea, South',\n",
    "               'Turkey': 'Turkey (Turkiye)',\n",
    "               'Bosnia and Herz.': 'Bosnia and Herzegovina',\n",
    "               'S. Sudan': 'South Sudan'}\n",
    "\n",
    "def replace_names(name):\n",
    "    if name in country_map.keys():\n",
    "        name = country_map[name]\n",
    "    return name\n",
    "\n",
    "world['name'] = world['name'].map(replace_names).unique()"
   ]
  },
  {
   "cell_type": "markdown",
   "id": "6eb2a1f8-92e2-4838-99b9-12849609cfa4",
   "metadata": {},
   "source": [
    "# Get From CIA"
   ]
  },
  {
   "cell_type": "code",
   "execution_count": 93,
   "id": "af32ef31-77d7-4b66-8fbb-7baf1229c806",
   "metadata": {},
   "outputs": [],
   "source": [
    "ret = requests.get('https://www.cia.gov/the-world-factbook/references/guide-to-country-comparisons/')\n",
    "soup = BeautifulSoup(ret.text, 'html.parser')"
   ]
  },
  {
   "cell_type": "code",
   "execution_count": 94,
   "id": "1be0734d-bf24-4c6b-bd57-0797d71b646e",
   "metadata": {},
   "outputs": [],
   "source": [
    "links = soup.find_all(\"a\", {\"class\": \"link-button bold\"})"
   ]
  },
  {
   "cell_type": "code",
   "execution_count": 95,
   "id": "c076c8ff-8ce6-47b1-884b-e67a1d0a486c",
   "metadata": {},
   "outputs": [
    {
     "name": "stdout",
     "output_type": "stream",
     "text": [
      "No tables found\n",
      "No tables found\n",
      "columns overlap but no suffix specified: Index(['Youth unemployment rate (ages 15-24)'], dtype='object')\n"
     ]
    }
   ],
   "source": [
    "for link in links:\n",
    "    name = link.text    \n",
    "    try:\n",
    "        table = pandas.read_html('https://www.cia.gov/' + link['href'])[0]\n",
    "    except ValueError as e:\n",
    "        print(e)\n",
    "        continue\n",
    "    table = table.drop(columns=['Rank', 'Date of Information'] )\n",
    "    table = table.rename(columns={table.columns[1]: name, 'Country':'name'})\n",
    "    try:\n",
    "        world = world.join(table.set_index('name'), on='name')\n",
    "    except ValueError as e:\n",
    "        print(e)\n",
    "        continue            \n",
    "    time.sleep(random.random())    "
   ]
  },
  {
   "cell_type": "markdown",
   "id": "d706e237-5544-4f16-b00e-66c561333333",
   "metadata": {},
   "source": [
    "# Removing dollar symbol"
   ]
  },
  {
   "cell_type": "code",
   "execution_count": null,
   "id": "5106bcf7-f32b-4d6a-a880-13ad4665b012",
   "metadata": {},
   "outputs": [],
   "source": [
    "world = world.fillna(-99)"
   ]
  },
  {
   "cell_type": "code",
   "execution_count": 100,
   "id": "4657e490-0a63-40b6-92e8-4bea16276131",
   "metadata": {},
   "outputs": [],
   "source": [
    "def remove_dollar(row):\n",
    "    if isinstance(row, (float, int)):\n",
    "        return row\n",
    "    row = row.replace('$','')\n",
    "    row = row.replace(',','')\n",
    "    row = row.strip()\n",
    "    return row"
   ]
  },
  {
   "cell_type": "code",
   "execution_count": 101,
   "id": "10cd451b-9fce-4e9b-8da1-ef58aaa89936",
   "metadata": {},
   "outputs": [],
   "source": [
    "keys = ['Real GDP (purchasing power parity)', \n",
    "        'Real GDP per capita', \n",
    "        'Current account balance', \n",
    "        'Exports', \n",
    "        'Imports', \n",
    "        'Reserves of foreign exchange and gold', \n",
    "        'Debt - external']\n",
    "for key in keys:\n",
    "    world[key] = world[key].map(remove_dollar).astype(float)"
   ]
  },
  {
   "cell_type": "code",
   "execution_count": 105,
   "id": "8c6b0479-d188-4b6f-8247-0fef85436c77",
   "metadata": {},
   "outputs": [
    {
     "name": "stdout",
     "output_type": "stream",
     "text": [
      "<class 'geopandas.geodataframe.GeoDataFrame'>\n",
      "RangeIndex: 177 entries, 0 to 176\n",
      "Data columns (total 55 columns):\n",
      " #   Column                                                  Non-Null Count  Dtype   \n",
      "---  ------                                                  --------------  -----   \n",
      " 0   pop_est                                                 177 non-null    float64 \n",
      " 1   continent                                               177 non-null    object  \n",
      " 2   name                                                    177 non-null    object  \n",
      " 3   iso_a3                                                  177 non-null    object  \n",
      " 4   gdp_md_est                                              177 non-null    int64   \n",
      " 5   geometry                                                177 non-null    geometry\n",
      " 6   Area                                                    177 non-null    float64 \n",
      " 7   Population                                              177 non-null    float64 \n",
      " 8   Median age                                              177 non-null    float64 \n",
      " 9   Population growth rate                                  177 non-null    float64 \n",
      " 10  Birth rate                                              177 non-null    float64 \n",
      " 11  Death rate                                              177 non-null    float64 \n",
      " 12  Net migration rate                                      177 non-null    float64 \n",
      " 13  Maternal mortality ratio                                177 non-null    float64 \n",
      " 14  Infant mortality rate                                   177 non-null    float64 \n",
      " 15  Life expectancy at birth                                177 non-null    float64 \n",
      " 16  Total fertility rate                                    177 non-null    float64 \n",
      " 17  HIV/AIDS - adult prevalence rate                        177 non-null    float64 \n",
      " 18  Obesity - adult prevalence rate                         177 non-null    float64 \n",
      " 19  Alcohol consumption per capita                          177 non-null    float64 \n",
      " 20  Tobacco use                                             177 non-null    float64 \n",
      " 21  Children under the age of 5 years underweight           177 non-null    float64 \n",
      " 22  Education expenditures                                  177 non-null    float64 \n",
      " 23  Youth unemployment rate (ages 15-24)                    177 non-null    float64 \n",
      " 24  Real GDP (purchasing power parity)                      177 non-null    float64 \n",
      " 25  Real GDP growth rate                                    177 non-null    float64 \n",
      " 26  Real GDP per capita                                     177 non-null    float64 \n",
      " 27  Inflation rate (consumer prices)                        177 non-null    float64 \n",
      " 28  Industrial production growth rate                       177 non-null    float64 \n",
      " 29  Labor force                                             177 non-null    float64 \n",
      " 30  Unemployment rate                                       177 non-null    float64 \n",
      " 31  Gini Index coefficient - distribution of family income  177 non-null    float64 \n",
      " 32  Budget surplus (+) or deficit (-)                       177 non-null    float64 \n",
      " 33  Public debt                                             177 non-null    float64 \n",
      " 34  Taxes and other revenues                                177 non-null    float64 \n",
      " 35  Current account balance                                 177 non-null    float64 \n",
      " 36  Exports                                                 177 non-null    float64 \n",
      " 37  Imports                                                 177 non-null    float64 \n",
      " 38  Reserves of foreign exchange and gold                   177 non-null    float64 \n",
      " 39  Debt - external                                         177 non-null    float64 \n",
      " 40  Refined petroleum products - production                 177 non-null    float64 \n",
      " 41  Refined petroleum products - exports                    177 non-null    float64 \n",
      " 42  Refined petroleum products - imports                    177 non-null    float64 \n",
      " 43  Carbon dioxide emissions                                177 non-null    float64 \n",
      " 44  Energy consumption per capita                           177 non-null    float64 \n",
      " 45  Telephones - fixed lines                                177 non-null    float64 \n",
      " 46  Telephones - mobile cellular                            177 non-null    float64 \n",
      " 47  Internet users                                          177 non-null    float64 \n",
      " 48  Broadband - fixed subscriptions                         177 non-null    float64 \n",
      " 49  Airports                                                177 non-null    float64 \n",
      " 50  Railways                                                177 non-null    float64 \n",
      " 51  Roadways                                                177 non-null    float64 \n",
      " 52  Waterways                                               177 non-null    float64 \n",
      " 53  Merchant marine                                         177 non-null    float64 \n",
      " 54  Military expenditures                                   177 non-null    float64 \n",
      "dtypes: float64(50), geometry(1), int64(1), object(3)\n",
      "memory usage: 76.2+ KB\n"
     ]
    }
   ],
   "source": [
    "world.info()"
   ]
  },
  {
   "cell_type": "code",
   "execution_count": 106,
   "id": "bee59126-caef-4360-afa6-04d88367454a",
   "metadata": {},
   "outputs": [],
   "source": [
    "world.to_file('world.gpkg')"
   ]
  },
  {
   "cell_type": "code",
   "execution_count": null,
   "id": "d39ecbe1-ac41-4624-9cdb-1e9606d31156",
   "metadata": {},
   "outputs": [],
   "source": []
  }
 ],
 "metadata": {
  "kernelspec": {
   "display_name": "Python 3 (ipykernel)",
   "language": "python",
   "name": "python3"
  },
  "language_info": {
   "codemirror_mode": {
    "name": "ipython",
    "version": 3
   },
   "file_extension": ".py",
   "mimetype": "text/x-python",
   "name": "python",
   "nbconvert_exporter": "python",
   "pygments_lexer": "ipython3",
   "version": "3.10.6"
  }
 },
 "nbformat": 4,
 "nbformat_minor": 5
}
