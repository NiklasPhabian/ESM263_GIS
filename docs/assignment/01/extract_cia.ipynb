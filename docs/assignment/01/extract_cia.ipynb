{
 "cells": [
  {
   "cell_type": "code",
   "execution_count": null,
   "id": "5b0f6974-3e94-439c-bac9-e01de07d302e",
   "metadata": {},
   "outputs": [],
   "source": [
    "import geopandas\n",
    "from bs4 import BeautifulSoup\n",
    "import pandas\n",
    "import requests\n",
    "import time\n",
    "import random"
   ]
  },
  {
   "cell_type": "code",
   "execution_count": null,
   "id": "f03d443c-505d-4303-9e27-bed26a5cc219",
   "metadata": {},
   "outputs": [],
   "source": [
    "path = geopandas.datasets.get_path(\"naturalearth_lowres\")\n",
    "world = geopandas.read_file(path)"
   ]
  },
  {
   "cell_type": "markdown",
   "id": "6eb2a1f8-92e2-4838-99b9-12849609cfa4",
   "metadata": {},
   "source": [
    "# Get From CIA"
   ]
  },
  {
   "cell_type": "code",
   "execution_count": null,
   "id": "af32ef31-77d7-4b66-8fbb-7baf1229c806",
   "metadata": {},
   "outputs": [],
   "source": [
    "ret = requests.get('https://www.cia.gov/the-world-factbook/references/guide-to-country-comparisons/')\n",
    "soup = BeautifulSoup(ret.text, 'html.parser')"
   ]
  },
  {
   "cell_type": "code",
   "execution_count": null,
   "id": "1be0734d-bf24-4c6b-bd57-0797d71b646e",
   "metadata": {},
   "outputs": [],
   "source": [
    "links = soup.find_all(\"a\", {\"class\": \"link-button bold\"})"
   ]
  },
  {
   "cell_type": "code",
   "execution_count": null,
   "id": "c076c8ff-8ce6-47b1-884b-e67a1d0a486c",
   "metadata": {},
   "outputs": [],
   "source": [
    "for link in links:\n",
    "    name = link.text    \n",
    "    try:\n",
    "        table = pandas.read_html('https://www.cia.gov/' + link['href'])[0]\n",
    "    except ValueError as e:\n",
    "        print(e)\n",
    "        continue\n",
    "    table = table.drop(columns=['Rank', 'Date of Information'] )\n",
    "    table = table.rename(columns={table.columns[1]: name, 'Country':'name'})\n",
    "    try:\n",
    "        world = world.join(table.set_index('name'), on='name')\n",
    "    except ValueError as e:\n",
    "        print(e)\n",
    "        continue            \n",
    "    time.sleep(random.random())    "
   ]
  },
  {
   "cell_type": "code",
   "execution_count": null,
   "id": "e68cdf9d-4f45-4228-b43a-a79bc3894c02",
   "metadata": {},
   "outputs": [],
   "source": [
    "world.plot()"
   ]
  },
  {
   "cell_type": "code",
   "execution_count": null,
   "id": "bee59126-caef-4360-afa6-04d88367454a",
   "metadata": {},
   "outputs": [],
   "source": [
    "world = world.fillna(-99)\n",
    "world.to_file('world.gpkg')"
   ]
  },
  {
   "cell_type": "code",
   "execution_count": null,
   "id": "d39ecbe1-ac41-4624-9cdb-1e9606d31156",
   "metadata": {},
   "outputs": [],
   "source": []
  }
 ],
 "metadata": {
  "kernelspec": {
   "display_name": "Python 3 (ipykernel)",
   "language": "python",
   "name": "python3"
  },
  "language_info": {
   "codemirror_mode": {
    "name": "ipython",
    "version": 3
   },
   "file_extension": ".py",
   "mimetype": "text/x-python",
   "name": "python",
   "nbconvert_exporter": "python",
   "pygments_lexer": "ipython3",
   "version": "3.10.6"
  }
 },
 "nbformat": 4,
 "nbformat_minor": 5
}
